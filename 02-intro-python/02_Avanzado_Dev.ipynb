{
 "cells": [
  {
   "cell_type": "markdown",
   "metadata": {},
   "source": [
    "# Introducción a Programación Orientada a Objetos\n",
    "<img src=\"images/python.png\">\n",
    "\n",
    "* Es un paradigma de programación, un estilo para diseñar software.\n",
    "\n",
    "\n",
    "* Hace que el desarrollo de grandes proyectos sea más sencillo, intuitivo y mantenible.\n",
    "\n",
    "\n",
    "* Permite pensar el desarrollo de software complejo como **objetos** y las **relaciones** entre ellos.\n",
    "\n",
    "\n",
    "* Todo en Python es un objeto."
   ]
  },
  {
   "cell_type": "markdown",
   "metadata": {},
   "source": [
    "## Clases\n",
    "\n",
    "* Pueden entenderse como los **planos** para crear objetos.\n",
    "\n",
    "\n",
    "* Podemos crear múltiples objetos **únicos** de una sola clase.\n",
    "\n",
    "\n",
    "* Una clase define las características **(atributos)** y las acciones **(métodos)** que los objetos pueden tener.\n",
    "\n",
    "\n",
    "## Objetos\n",
    "\n",
    "* El proceso de crear un objeto se llama **instanciar**.\n",
    "\n",
    "\n",
    "<br>\n",
    "<br>\n",
    "\n",
    "## Ejemplo\n",
    "\n",
    "### Clase Perro\n",
    "\n",
    "<table class='col-md-6'>\n",
    "    <thead>\n",
    "        <tr>\n",
    "            <th>Atributos</th>\n",
    "            <th>Métodos</th>\n",
    "        </tr>\n",
    "    </thead>\n",
    "    <tbody>\n",
    "        <tr>\n",
    "            <td>nombre</td>\n",
    "            <td>ladrar</td>\n",
    "        </tr>     \n",
    "        <tr>\n",
    "            <td>edad</td>\n",
    "            <td>mover_cola</td>\n",
    "        </tr>        \n",
    "        <tr>\n",
    "            <td>sexo</td>\n",
    "            <td>caminar</td>\n",
    "        </tr>\n",
    "    </tbody>\n",
    "</table>    "
   ]
  },
  {
   "cell_type": "code",
   "execution_count": 54,
   "metadata": {},
   "outputs": [],
   "source": [
    "class Dog:\n",
    "    pass"
   ]
  },
  {
   "cell_type": "markdown",
   "metadata": {},
   "source": []
  },
  {
   "cell_type": "code",
   "execution_count": 36,
   "metadata": {},
   "outputs": [
    {
     "data": {
      "text/plain": [
       "3"
      ]
     },
     "execution_count": 36,
     "metadata": {},
     "output_type": "execute_result"
    }
   ],
   "source": [
    "class Dog:\n",
    "    pass\n",
    "\n",
    "a = Dog()"
   ]
  },
  {
   "cell_type": "code",
   "execution_count": null,
   "metadata": {},
   "outputs": [],
   "source": []
  }
 ],
 "metadata": {
  "kernelspec": {
   "display_name": "Python 3",
   "language": "python",
   "name": "python3"
  },
  "language_info": {
   "codemirror_mode": {
    "name": "ipython",
    "version": 3
   },
   "file_extension": ".py",
   "mimetype": "text/x-python",
   "name": "python",
   "nbconvert_exporter": "python",
   "pygments_lexer": "ipython3",
   "version": "3.7.1"
  },
  "varInspector": {
   "cols": {
    "lenName": 16,
    "lenType": 16,
    "lenVar": 40
   },
   "kernels_config": {
    "python": {
     "delete_cmd_postfix": "",
     "delete_cmd_prefix": "del ",
     "library": "var_list.py",
     "varRefreshCmd": "print(var_dic_list())"
    },
    "r": {
     "delete_cmd_postfix": ") ",
     "delete_cmd_prefix": "rm(",
     "library": "var_list.r",
     "varRefreshCmd": "cat(var_dic_list()) "
    }
   },
   "types_to_exclude": [
    "module",
    "function",
    "builtin_function_or_method",
    "instance",
    "_Feature"
   ],
   "window_display": false
  }
 },
 "nbformat": 4,
 "nbformat_minor": 2
}
